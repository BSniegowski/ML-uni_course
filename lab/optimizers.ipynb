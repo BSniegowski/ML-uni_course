{
 "cells": [
  {
   "cell_type": "code",
   "execution_count": 1,
   "outputs": [],
   "source": [
    "import torch\n",
    "import matplotlib.pyplot as plt\n",
    "import numpy as np\n",
    "\n",
    "from utils import visualize_optimizer\n",
    "from checker import test_optimizer"
   ],
   "metadata": {
    "collapsed": false
   }
  },
  {
   "cell_type": "code",
   "execution_count": 2,
   "outputs": [],
   "source": [
    "from typing import List\n",
    "\n",
    "class Optimizer:\n",
    "    \"\"\"Base class for each optimizer\"\"\"\n",
    "\n",
    "    def __init__(self, initial_params):\n",
    "        # store model weights\n",
    "        self.params = initial_params\n",
    "\n",
    "    def step(self):\n",
    "        \"\"\"Updates the weights stored in self.params\"\"\"\n",
    "        raise NotImplementedError()\n",
    "\n",
    "    def zero_grad(self):\n",
    "        \"\"\"Torch accumulates gradients, so we need to clear them after every update\"\"\"\n",
    "        for param in self.params:\n",
    "            if param.grad is not None:\n",
    "                param.grad.detach_()\n",
    "                param.grad.zero_()\n",
    "\n",
    "\n",
    "class GradientDescent(Optimizer):\n",
    "\n",
    "    def __init__(self, initial_params: List[torch.tensor], learning_rate):\n",
    "        super().__init__(initial_params)\n",
    "        self.learning_rate = learning_rate\n",
    "\n",
    "    @torch.no_grad()\n",
    "    def step(self):\n",
    "        for param in self.params:\n",
    "            # Please note that it's important to change the parameters in-place (-=) so the original tensors are modified\n",
    "            param -= self.learning_rate * param.grad"
   ],
   "metadata": {
    "collapsed": false
   }
  },
  {
   "cell_type": "code",
   "execution_count": 22,
   "outputs": [],
   "source": [
    "class Momentum(Optimizer):\n",
    "\n",
    "    def __init__(self, initial_params, learning_rate, gamma):\n",
    "        super().__init__(initial_params)\n",
    "\n",
    "        self.learning_rate = learning_rate\n",
    "        self.gamma = gamma\n",
    "        # how do I know self.params is a list?\n",
    "        self.deltas = [torch.full(self.params[i].size(), 0) for i in range(len(self.params))]\n",
    "\n",
    "    @torch.no_grad()\n",
    "    def step(self):\n",
    "        i = 0\n",
    "        for param in self.params:\n",
    "            delta = self.gamma * self.deltas[i] + self.learning_rate * param.grad\n",
    "            param -= delta\n",
    "            self.deltas[i] = delta\n",
    "            i += 1\n",
    "\n",
    "test_optimizer(Momentum)"
   ],
   "metadata": {
    "collapsed": false
   }
  },
  {
   "cell_type": "code",
   "execution_count": 29,
   "outputs": [],
   "source": [
    "class Adagrad(Optimizer):\n",
    "\n",
    "    def __init__(self, initial_params, learning_rate, epsilon):\n",
    "        super().__init__(initial_params)\n",
    "        self.learning_rate = learning_rate\n",
    "        self.epsilon = epsilon\n",
    "        self.sums_of_sq_grads = [torch.full(self.params[i].size(), 0.) for i in range(len(self.params))]\n",
    "\n",
    "    @torch.no_grad()\n",
    "    def step(self):\n",
    "        for i in range(len(self.params)):\n",
    "            squared_grad = self.params[i].grad * self.params[i].grad\n",
    "            self.sums_of_sq_grads[i] += squared_grad\n",
    "            adapted_lr = self.learning_rate / torch.sqrt(self.sums_of_sq_grads[i]+self.epsilon)\n",
    "            self.params[i] -= adapted_lr * self.params[i].grad\n",
    "\n",
    "test_optimizer(Adagrad)"
   ],
   "metadata": {
    "collapsed": false
   }
  },
  {
   "cell_type": "code",
   "execution_count": 32,
   "outputs": [],
   "source": [
    "class RMSProp(Optimizer):\n",
    "\n",
    "    def __init__(self, initial_params, learning_rate, gamma, epsilon):\n",
    "        super().__init__(initial_params)\n",
    "        self.learning_rate = learning_rate\n",
    "        self.gamma = gamma\n",
    "        self.epsilon = epsilon\n",
    "        self.moving_avg = [torch.full(self.params[i].size(), 0.) for i in range(len(self.params))]\n",
    "\n",
    "    @torch.no_grad()\n",
    "    def step(self):\n",
    "        for i in range(len(self.params)):\n",
    "            new_moving_avg = self.gamma * self.moving_avg[i] + (1 - self.gamma) * self.params[i].grad * self.params[i].grad\n",
    "            self.moving_avg[i] = new_moving_avg\n",
    "            adapted_lr = self.learning_rate / torch.sqrt(self.moving_avg[i]+self.epsilon)\n",
    "            self.params[i] -= adapted_lr * self.params[i].grad\n",
    "\n",
    "\n",
    "test_optimizer(RMSProp)"
   ],
   "metadata": {
    "collapsed": false
   }
  },
  {
   "cell_type": "code",
   "execution_count": 39,
   "outputs": [],
   "source": [
    "class Adadelta(Optimizer):\n",
    "    def __init__(self, initial_params, gamma, epsilon):\n",
    "        super().__init__(initial_params)\n",
    "        self.gamma = gamma\n",
    "        self.epsilon = epsilon\n",
    "        self.moving_avg_grads = [torch.full(self.params[i].size(), 0.) for i in range(len(self.params))]\n",
    "        self.moving_avg_deltas = [torch.full(self.params[i].size(), 0.) for i in range(len(self.params))]\n",
    "\n",
    "    @torch.no_grad()\n",
    "    def step(self):\n",
    "        for i in range(len(self.params)):\n",
    "            grad = self.params[i].grad\n",
    "            self.moving_avg_grads[i] = self.gamma * self.moving_avg_grads[i] + (1 - self.gamma) * grad * grad\n",
    "            e = self.epsilon\n",
    "            delta = (torch.sqrt(self.moving_avg_deltas[i] + e) / torch.sqrt(self.moving_avg_grads[i] + e)) * self.params[i].grad\n",
    "            self.params[i] -= delta\n",
    "            self.moving_avg_deltas[i] = self.gamma * self.moving_avg_deltas[i] + (1 - self.gamma) * (delta * delta)\n",
    "\n",
    "test_optimizer(Adadelta)"
   ],
   "metadata": {
    "collapsed": false
   }
  },
  {
   "cell_type": "code",
   "execution_count": 8,
   "outputs": [],
   "source": [
    "class Adam(Optimizer):\n",
    "\n",
    "    def __init__(self, initial_params, learning_rate, beta1, beta2, epsilon):\n",
    "        super().__init__(initial_params)\n",
    "        self.learning_rate = learning_rate\n",
    "        self.beta1 = beta1\n",
    "        self.beta2 = beta2\n",
    "        self.epsilon = epsilon\n",
    "        self.m = [torch.full(self.params[i].size(), 0.) for i in range(len(self.params))]\n",
    "        self.v = [torch.full(self.params[i].size(), 0.) for i in range(len(self.params))]\n",
    "        self.step_counter = 0\n",
    "\n",
    "    @torch.no_grad()\n",
    "    def step(self,):\n",
    "        self.step_counter += 1\n",
    "        for i in range(len(self.params)):\n",
    "            grad = self.params[i].grad\n",
    "            self.m[i] = self.beta1 * self.m[i] + (1 - self.beta1) * grad\n",
    "            self.v[i] = self.beta2 * self.v[i] + (1 - self.beta2) * grad * grad\n",
    "            m_hat = self.m[i] / (1 - self.beta1 ** self.step_counter)\n",
    "            v_hat = self.v[i] / (1 - self.beta2 ** self.step_counter)\n",
    "            self.params[i] -= self.learning_rate * (m_hat / (torch.sqrt(v_hat) + self.epsilon))\n",
    "\n",
    "test_optimizer(Adam)"
   ],
   "metadata": {
    "collapsed": false
   }
  },
  {
   "cell_type": "code",
   "execution_count": null,
   "outputs": [],
   "source": [],
   "metadata": {
    "collapsed": false
   }
  }
 ],
 "metadata": {
  "kernelspec": {
   "display_name": "Python 3",
   "language": "python",
   "name": "python3"
  },
  "language_info": {
   "codemirror_mode": {
    "name": "ipython",
    "version": 2
   },
   "file_extension": ".py",
   "mimetype": "text/x-python",
   "name": "python",
   "nbconvert_exporter": "python",
   "pygments_lexer": "ipython2",
   "version": "2.7.6"
  }
 },
 "nbformat": 4,
 "nbformat_minor": 0
}
