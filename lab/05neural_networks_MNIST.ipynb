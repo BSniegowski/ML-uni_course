{
 "cells": [
  {
   "cell_type": "code",
   "execution_count": null,
   "metadata": {},
   "outputs": [],
   "source": [
    "import numpy as np\n",
    "import torch\n",
    "import torchvision\n",
    "from typing import Tuple"
   ]
  },
  {
   "cell_type": "code",
   "execution_count": 103,
   "metadata": {},
   "outputs": [],
   "source": [
    "from torchvision.datasets import MNIST\n",
    "from torchvision.transforms import Lambda, ToTensor\n",
    "\n",
    "def calculate_mean_and_std() -> Tuple[float, float]:\n",
    "    mean = torch.mean(train_data.data, dtype=torch.float)/255\n",
    "    std = torch.std(train_data.data.type(torch.FloatTensor))/255\n",
    "    return mean, std\n",
    "mean, std = calculate_mean_and_std()\n",
    "\n",
    "train_data = MNIST(\n",
    "    root='.',\n",
    "    download=True,\n",
    "    train=True,\n",
    "    transform=torchvision.transforms.Compose([\n",
    "        ToTensor(),\n",
    "        Lambda(lambda t : torch.reshape(t, (-1,)))\n",
    "    ])\n",
    ")\n",
    "\n",
    "test_data = MNIST(\n",
    "    root='.',\n",
    "    download=True,\n",
    "    train=False,\n",
    "    transform=torchvision.transforms.Compose([\n",
    "        ToTensor(),\n",
    "        Lambda(lambda t : torch.reshape(t, (-1,)))\n",
    "    ])\n",
    ")\n",
    "# print(train_data.data[0])"
   ]
  },
  {
   "cell_type": "code",
   "execution_count": 104,
   "outputs": [],
   "source": [
    "mean, std = calculate_mean_and_std()\n",
    "assert np.isclose(mean, 0.1306, atol=1e-4)\n",
    "assert np.isclose(std, 0.3081, atol=1e-4)"
   ],
   "metadata": {
    "collapsed": false
   }
  },
  {
   "cell_type": "code",
   "execution_count": 105,
   "outputs": [],
   "source": [
    "train_loader = torch.utils.data.DataLoader(train_data, batch_size=10)\n",
    "\n",
    "x, y = next(iter(train_loader))\n",
    "assert len(x.shape) == 2\n",
    "assert x.shape == (10, 784)"
   ],
   "metadata": {
    "collapsed": false
   }
  },
  {
   "cell_type": "code",
   "execution_count": null,
   "outputs": [],
   "source": [],
   "metadata": {
    "collapsed": false
   }
  }
 ],
 "metadata": {
  "kernelspec": {
   "display_name": "Python 3 (ipykernel)",
   "language": "python",
   "name": "python3"
  },
  "language_info": {
   "codemirror_mode": {
    "name": "ipython",
    "version": 3
   },
   "file_extension": ".py",
   "mimetype": "text/x-python",
   "name": "python",
   "nbconvert_exporter": "python",
   "pygments_lexer": "ipython3",
   "version": "3.7.13"
  }
 },
 "nbformat": 4,
 "nbformat_minor": 1
}
