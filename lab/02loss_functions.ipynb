{
 "cells": [
  {
   "cell_type": "code",
   "execution_count": null,
   "outputs": [],
   "source": [
    "import matplotlib.pyplot as plt\n",
    "import numpy as np\n",
    "\n",
    "import checker\n",
    "import utils\n",
    "\n",
    "# Proszę nie zmieniać seedu, to nam zapewni, ze bedzięmy pracować na tych samych datasetach\n",
    "np.random.seed(60)\n",
    "\n",
    "# Pierwszy zbiór wygenerujemy, losując punkty z rozkładu jednostajnego\n",
    "train_set_1d = np.random.uniform(-5, 5, size=(15, 1))\n",
    "\n",
    "# Drugi zbiór wygenerujemy, losując punkty z rozkładu normalnego\n",
    "train_set_2d = np.random.normal(-1, 3, size=(13, 2))\n",
    "\n",
    "# Trzeci zbiór wygenerujemy, losując punkty z rozkładu wykładniczego\n",
    "train_set_10d = np.random.exponential(2, size=(31, 10))\n",
    "print(train_set_10d[:5, 0])\n",
    "\n",
    "train_sets = [train_set_1d, train_set_2d, train_set_10d]\n",
    "\n",
    "print(\"Parę punktów z datasetu jednowymiarowego:\\n\", train_set_1d[:5])\n",
    "print(\"Parę punktów z datasetu dwuwymiarowego:\\n\", train_set_2d[:5])\n",
    "print(\"Parę punktów z datasetu dziesięciowymiarowego:\\n\", train_set_10d[:3])\n",
    "\n",
    "shapes = [dataset.shape for dataset in train_sets]\n",
    "print(\"Rozmiary naszych datasetów:\", *shapes)\n",
    "# Pierwszy wymiar reprezentuje liczbę przykładów w datasecie\n",
    "# Drugi wymiar to wymiar pojedynczego przykładu z datasetu"
   ],
   "metadata": {
    "collapsed": false,
    "pycharm": {
     "is_executing": true
    }
   }
  },
  {
   "cell_type": "code",
   "execution_count": 26,
   "outputs": [],
   "source": [
    "# Sprawdźmy czy datasety wylosowały się z poprawnego seedu.\n",
    "similar_vals_1d = np.all(np.isclose(\n",
    "    train_set_1d[:5, 0],\n",
    "    np.array([-1.9912666995338126, -3.13054183658122, -1.7681732303178057, 1.6574957028830903, 0.6697080096921333])\n",
    "))\n",
    "\n",
    "similar_vals_2d = np.all(np.isclose(\n",
    "    train_set_2d[:5, 0],\n",
    "    np.array([-6.53671154, -0.96583933, 3.14309184, -0.54717522, -2.49814889])\n",
    "))\n",
    "\n",
    "similar_vals_10d = np.all(np.isclose(\n",
    "    train_set_10d[:5, 0],\n",
    "    np.array([1.92650794, 2.29209159, 0.61110025, 3.247719, 2.8237559])\n",
    "))\n",
    "assert similar_vals_1d and similar_vals_2d and similar_vals_10d, \\\n",
    "    \"Wylosowane wartości są złe! Zgłoś od razu problem prowadzącemu!\""
   ],
   "metadata": {
    "collapsed": false
   }
  },
  {
   "cell_type": "code",
   "execution_count": 29,
   "outputs": [],
   "source": [
    "from numpy import linalg as LA\n",
    "\n",
    "def mean_error(X, v):\n",
    "    return LA.norm((X-v), ord=2, axis=1).mean()\n",
    "\n",
    "def mean_squared_error(X, v):\n",
    "    norms = LA.norm(X-v, ord=2, axis=1)\n",
    "    return (norms**2).mean()\n",
    "\n",
    "def max_error(X, v):\n",
    "    return max(LA.norm(X-v, ord=2, axis=1))\n",
    "\n",
    "checker.check_1_1(mean_error, mean_squared_error, max_error, train_sets)"
   ],
   "metadata": {
    "collapsed": false
   }
  },
  {
   "cell_type": "code",
   "execution_count": 42,
   "outputs": [],
   "source": [
    "def minimize_mse(X):\n",
    "    return np.sum(X)/X.size\n",
    "\n",
    "def minimize_me(X):\n",
    "    return np.median(X)\n",
    "\n",
    "def minimize_max(X):\n",
    "    return (np.amax(X)+np.amin(X))/2\n",
    "\n",
    "checker.check_1_2(minimize_me, minimize_mse, minimize_max, train_set_1d)"
   ],
   "metadata": {
    "collapsed": false
   }
  },
  {
   "cell_type": "code",
   "execution_count": 94,
   "outputs": [
    {
     "ename": "AssertionError",
     "evalue": "",
     "output_type": "error",
     "traceback": [
      "\u001B[0;31m---------------------------------------------------------------------------\u001B[0m",
      "\u001B[0;31mAssertionError\u001B[0m                            Traceback (most recent call last)",
      "\u001B[0;32m/var/folders/yc/4qc9kh053_q6byxpyyr_7xdm0000gn/T/ipykernel_38934/1394248153.py\u001B[0m in \u001B[0;36m<module>\u001B[0;34m\u001B[0m\n\u001B[1;32m     20\u001B[0m \u001B[0;31m# mse_grad(train_set_2d, [1,1])\u001B[0m\u001B[0;34m\u001B[0m\u001B[0;34m\u001B[0m\u001B[0;34m\u001B[0m\u001B[0m\n\u001B[1;32m     21\u001B[0m \u001B[0;34m\u001B[0m\u001B[0m\n\u001B[0;32m---> 22\u001B[0;31m \u001B[0mchecker\u001B[0m\u001B[0;34m.\u001B[0m\u001B[0mcheck_1_3\u001B[0m\u001B[0;34m(\u001B[0m\u001B[0mme_grad\u001B[0m\u001B[0;34m,\u001B[0m \u001B[0mmse_grad\u001B[0m\u001B[0;34m,\u001B[0m \u001B[0mmax_grad\u001B[0m\u001B[0;34m,\u001B[0m \u001B[0mtrain_sets\u001B[0m\u001B[0;34m)\u001B[0m\u001B[0;34m\u001B[0m\u001B[0;34m\u001B[0m\u001B[0m\n\u001B[0m",
      "\u001B[0;32m~/Desktop/Studia/ML/ML-uni_course/lab/checker.py\u001B[0m in \u001B[0;36mcheck_1_3\u001B[0;34m(me_grad, mse_grad, max_grad, train_sets)\u001B[0m\n\u001B[1;32m     95\u001B[0m     assert all(np.isclose(\n\u001B[1;32m     96\u001B[0m         \u001B[0mmax_grad\u001B[0m\u001B[0;34m(\u001B[0m\u001B[0mtrain_set_1d\u001B[0m\u001B[0;34m,\u001B[0m \u001B[0mnp\u001B[0m\u001B[0;34m.\u001B[0m\u001B[0marray\u001B[0m\u001B[0;34m(\u001B[0m\u001B[0;34m[\u001B[0m\u001B[0;36m5.25\u001B[0m\u001B[0;34m]\u001B[0m\u001B[0;34m)\u001B[0m\u001B[0;34m)\u001B[0m\u001B[0;34m,\u001B[0m\u001B[0;34m\u001B[0m\u001B[0;34m\u001B[0m\u001B[0m\n\u001B[0;32m---> 97\u001B[0;31m         \u001B[0;34m[\u001B[0m\u001B[0;36m1.\u001B[0m\u001B[0;34m]\u001B[0m\u001B[0;34m\u001B[0m\u001B[0;34m\u001B[0m\u001B[0m\n\u001B[0m\u001B[1;32m     98\u001B[0m     ))\n\u001B[1;32m     99\u001B[0m     assert all(np.isclose(\n",
      "\u001B[0;31mAssertionError\u001B[0m: "
     ]
    }
   ],
   "source": [
    "def me_grad(X, v):\n",
    "    N = X.shape[0]\n",
    "    temp = X - v\n",
    "    for i in range(N):\n",
    "        temp[i] = (-1/N)*temp[i]/LA.norm(temp[i], ord=2)\n",
    "    grad = np.sum(temp, axis=0)\n",
    "    return grad\n",
    "\n",
    "def mse_grad(X, v):\n",
    "    N = X.shape[0]\n",
    "    temp = X - v\n",
    "    for i in range(N):\n",
    "        temp[i] = (-2/N)*temp[i]\n",
    "    grad = np.sum(temp, axis=0)\n",
    "    return grad\n",
    "\n",
    "def max_grad(X, v):\n",
    "    return 0\n",
    "\n",
    "# mse_grad(train_set_2d, [1,1])\n",
    "\n",
    "checker.check_1_3(me_grad, mse_grad, max_grad, train_sets)"
   ],
   "metadata": {
    "collapsed": false
   }
  },
  {
   "cell_type": "code",
   "execution_count": null,
   "outputs": [],
   "source": [],
   "metadata": {
    "collapsed": false
   }
  }
 ],
 "metadata": {
  "kernelspec": {
   "display_name": "Python 3",
   "language": "python",
   "name": "python3"
  },
  "language_info": {
   "codemirror_mode": {
    "name": "ipython",
    "version": 2
   },
   "file_extension": ".py",
   "mimetype": "text/x-python",
   "name": "python",
   "nbconvert_exporter": "python",
   "pygments_lexer": "ipython2",
   "version": "2.7.6"
  }
 },
 "nbformat": 4,
 "nbformat_minor": 0
}
