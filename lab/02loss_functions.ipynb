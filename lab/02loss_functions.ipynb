{
 "cells": [
  {
   "cell_type": "code",
   "execution_count": null,
   "outputs": [],
   "source": [
    "import matplotlib.pyplot as plt\n",
    "import numpy as np\n",
    "\n",
    "import checker\n",
    "import utils\n",
    "\n",
    "# Proszę nie zmieniać seedu, to nam zapewni, ze bedzięmy pracować na tych samych datasetach\n",
    "np.random.seed(60)\n",
    "\n",
    "# Pierwszy zbiór wygenerujemy, losując punkty z rozkładu jednostajnego\n",
    "train_set_1d = np.random.uniform(-5, 5, size=(15, 1))\n",
    "\n",
    "# Drugi zbiór wygenerujemy, losując punkty z rozkładu normalnego\n",
    "train_set_2d = np.random.normal(-1, 3, size=(13, 2))\n",
    "\n",
    "# Trzeci zbiór wygenerujemy, losując punkty z rozkładu wykładniczego\n",
    "train_set_10d = np.random.exponential(2, size=(31, 10))\n",
    "print(train_set_10d[:5, 0])\n",
    "\n",
    "train_sets = [train_set_1d, train_set_2d, train_set_10d]\n",
    "\n",
    "print(\"Parę punktów z datasetu jednowymiarowego:\\n\", train_set_1d[:5])\n",
    "print(\"Parę punktów z datasetu dwuwymiarowego:\\n\", train_set_2d[:5])\n",
    "print(\"Parę punktów z datasetu dziesięciowymiarowego:\\n\", train_set_10d[:3])\n",
    "\n",
    "shapes = [dataset.shape for dataset in train_sets]\n",
    "print(\"Rozmiary naszych datasetów:\", *shapes)\n",
    "# Pierwszy wymiar reprezentuje liczbę przykładów w datasecie\n",
    "# Drugi wymiar to wymiar pojedynczego przykładu z datasetu"
   ],
   "metadata": {
    "collapsed": false,
    "pycharm": {
     "is_executing": true
    }
   }
  },
  {
   "cell_type": "code",
   "execution_count": 26,
   "outputs": [],
   "source": [
    "# Sprawdźmy czy datasety wylosowały się z poprawnego seedu.\n",
    "similar_vals_1d = np.all(np.isclose(\n",
    "    train_set_1d[:5, 0],\n",
    "    np.array([-1.9912666995338126, -3.13054183658122, -1.7681732303178057, 1.6574957028830903, 0.6697080096921333])\n",
    "))\n",
    "\n",
    "similar_vals_2d = np.all(np.isclose(\n",
    "    train_set_2d[:5, 0],\n",
    "    np.array([-6.53671154, -0.96583933, 3.14309184, -0.54717522, -2.49814889])\n",
    "))\n",
    "\n",
    "similar_vals_10d = np.all(np.isclose(\n",
    "    train_set_10d[:5, 0],\n",
    "    np.array([1.92650794, 2.29209159, 0.61110025, 3.247719, 2.8237559])\n",
    "))\n",
    "assert similar_vals_1d and similar_vals_2d and similar_vals_10d, \\\n",
    "    \"Wylosowane wartości są złe! Zgłoś od razu problem prowadzącemu!\""
   ],
   "metadata": {
    "collapsed": false
   }
  },
  {
   "cell_type": "code",
   "execution_count": 29,
   "outputs": [],
   "source": [
    "from numpy import linalg as LA\n",
    "\n",
    "def mean_error(X, v):\n",
    "    return LA.norm((X-v), ord=2, axis=1).mean()\n",
    "\n",
    "def mean_squared_error(X, v):\n",
    "    norms = LA.norm(X-v, ord=2, axis=1)\n",
    "    return (norms**2).mean()\n",
    "\n",
    "def max_error(X, v):\n",
    "    return max(LA.norm(X-v, ord=2, axis=1))\n",
    "\n",
    "checker.check_1_1(mean_error, mean_squared_error, max_error, train_sets)"
   ],
   "metadata": {
    "collapsed": false
   }
  },
  {
   "cell_type": "code",
   "execution_count": 42,
   "outputs": [],
   "source": [
    "def minimize_mse(X):\n",
    "    return np.sum(X)/X.size\n",
    "\n",
    "def minimize_me(X):\n",
    "    return np.median(X)\n",
    "\n",
    "def minimize_max(X):\n",
    "    return (np.amax(X)+np.amin(X))/2\n",
    "\n",
    "checker.check_1_2(minimize_me, minimize_mse, minimize_max, train_set_1d)"
   ],
   "metadata": {
    "collapsed": false
   }
  },
  {
   "cell_type": "code",
   "execution_count": 93,
   "outputs": [
    {
     "ename": "ValueError",
     "evalue": "operands could not be broadcast together with shapes (0,) (2,) ",
     "output_type": "error",
     "traceback": [
      "\u001B[0;31m---------------------------------------------------------------------------\u001B[0m",
      "\u001B[0;31mValueError\u001B[0m                                Traceback (most recent call last)",
      "\u001B[0;32m/var/folders/yc/4qc9kh053_q6byxpyyr_7xdm0000gn/T/ipykernel_38934/1626030087.py\u001B[0m in \u001B[0;36m<module>\u001B[0;34m\u001B[0m\n\u001B[1;32m     15\u001B[0m \u001B[0mme_grad\u001B[0m\u001B[0;34m(\u001B[0m\u001B[0mtrain_set_2d\u001B[0m\u001B[0;34m,\u001B[0m \u001B[0;34m[\u001B[0m\u001B[0;36m1\u001B[0m\u001B[0;34m,\u001B[0m\u001B[0;36m1\u001B[0m\u001B[0;34m]\u001B[0m\u001B[0;34m)\u001B[0m\u001B[0;34m\u001B[0m\u001B[0;34m\u001B[0m\u001B[0m\n\u001B[1;32m     16\u001B[0m \u001B[0;34m\u001B[0m\u001B[0m\n\u001B[0;32m---> 17\u001B[0;31m \u001B[0mchecker\u001B[0m\u001B[0;34m.\u001B[0m\u001B[0mcheck_1_3\u001B[0m\u001B[0;34m(\u001B[0m\u001B[0mme_grad\u001B[0m\u001B[0;34m,\u001B[0m \u001B[0mmse_grad\u001B[0m\u001B[0;34m,\u001B[0m \u001B[0mmax_grad\u001B[0m\u001B[0;34m,\u001B[0m \u001B[0mtrain_sets\u001B[0m\u001B[0;34m)\u001B[0m\u001B[0;34m\u001B[0m\u001B[0;34m\u001B[0m\u001B[0m\n\u001B[0m",
      "\u001B[0;32m~/Desktop/Studia/ML/ML-uni_course/lab/checker.py\u001B[0m in \u001B[0;36mcheck_1_3\u001B[0;34m(me_grad, mse_grad, max_grad, train_sets)\u001B[0m\n\u001B[1;32m     91\u001B[0m     assert all(np.isclose(\n\u001B[1;32m     92\u001B[0m         \u001B[0mmse_grad\u001B[0m\u001B[0;34m(\u001B[0m\u001B[0mtrain_set_2d\u001B[0m\u001B[0;34m,\u001B[0m \u001B[0mnp\u001B[0m\u001B[0;34m.\u001B[0m\u001B[0marray\u001B[0m\u001B[0;34m(\u001B[0m\u001B[0;34m[\u001B[0m\u001B[0;34m-\u001B[0m\u001B[0;36m8.44\u001B[0m\u001B[0;34m,\u001B[0m \u001B[0;36m10.24\u001B[0m\u001B[0;34m]\u001B[0m\u001B[0;34m)\u001B[0m\u001B[0;34m)\u001B[0m\u001B[0;34m,\u001B[0m\u001B[0;34m\u001B[0m\u001B[0;34m\u001B[0m\u001B[0m\n\u001B[0;32m---> 93\u001B[0;31m         \u001B[0;34m[\u001B[0m\u001B[0;34m-\u001B[0m\u001B[0;36m14.25378235\u001B[0m\u001B[0;34m,\u001B[0m  \u001B[0;36m21.80373175\u001B[0m\u001B[0;34m]\u001B[0m\u001B[0;34m\u001B[0m\u001B[0;34m\u001B[0m\u001B[0m\n\u001B[0m\u001B[1;32m     94\u001B[0m     ))\n\u001B[1;32m     95\u001B[0m     assert all(np.isclose(\n",
      "\u001B[0;32m<__array_function__ internals>\u001B[0m in \u001B[0;36misclose\u001B[0;34m(*args, **kwargs)\u001B[0m\n",
      "\u001B[0;32m~/opt/miniconda3/envs/ml/lib/python3.7/site-packages/numpy/core/numeric.py\u001B[0m in \u001B[0;36misclose\u001B[0;34m(a, b, rtol, atol, equal_nan)\u001B[0m\n\u001B[1;32m   2288\u001B[0m     \u001B[0myfin\u001B[0m \u001B[0;34m=\u001B[0m \u001B[0misfinite\u001B[0m\u001B[0;34m(\u001B[0m\u001B[0my\u001B[0m\u001B[0;34m)\u001B[0m\u001B[0;34m\u001B[0m\u001B[0;34m\u001B[0m\u001B[0m\n\u001B[1;32m   2289\u001B[0m     \u001B[0;32mif\u001B[0m \u001B[0mall\u001B[0m\u001B[0;34m(\u001B[0m\u001B[0mxfin\u001B[0m\u001B[0;34m)\u001B[0m \u001B[0;32mand\u001B[0m \u001B[0mall\u001B[0m\u001B[0;34m(\u001B[0m\u001B[0myfin\u001B[0m\u001B[0;34m)\u001B[0m\u001B[0;34m:\u001B[0m\u001B[0;34m\u001B[0m\u001B[0;34m\u001B[0m\u001B[0m\n\u001B[0;32m-> 2290\u001B[0;31m         \u001B[0;32mreturn\u001B[0m \u001B[0mwithin_tol\u001B[0m\u001B[0;34m(\u001B[0m\u001B[0mx\u001B[0m\u001B[0;34m,\u001B[0m \u001B[0my\u001B[0m\u001B[0;34m,\u001B[0m \u001B[0matol\u001B[0m\u001B[0;34m,\u001B[0m \u001B[0mrtol\u001B[0m\u001B[0;34m)\u001B[0m\u001B[0;34m\u001B[0m\u001B[0;34m\u001B[0m\u001B[0m\n\u001B[0m\u001B[1;32m   2291\u001B[0m     \u001B[0;32melse\u001B[0m\u001B[0;34m:\u001B[0m\u001B[0;34m\u001B[0m\u001B[0;34m\u001B[0m\u001B[0m\n\u001B[1;32m   2292\u001B[0m         \u001B[0mfinite\u001B[0m \u001B[0;34m=\u001B[0m \u001B[0mxfin\u001B[0m \u001B[0;34m&\u001B[0m \u001B[0myfin\u001B[0m\u001B[0;34m\u001B[0m\u001B[0;34m\u001B[0m\u001B[0m\n",
      "\u001B[0;32m~/opt/miniconda3/envs/ml/lib/python3.7/site-packages/numpy/core/numeric.py\u001B[0m in \u001B[0;36mwithin_tol\u001B[0;34m(x, y, atol, rtol)\u001B[0m\n\u001B[1;32m   2274\u001B[0m     \u001B[0;32mdef\u001B[0m \u001B[0mwithin_tol\u001B[0m\u001B[0;34m(\u001B[0m\u001B[0mx\u001B[0m\u001B[0;34m,\u001B[0m \u001B[0my\u001B[0m\u001B[0;34m,\u001B[0m \u001B[0matol\u001B[0m\u001B[0;34m,\u001B[0m \u001B[0mrtol\u001B[0m\u001B[0;34m)\u001B[0m\u001B[0;34m:\u001B[0m\u001B[0;34m\u001B[0m\u001B[0;34m\u001B[0m\u001B[0m\n\u001B[1;32m   2275\u001B[0m         \u001B[0;32mwith\u001B[0m \u001B[0merrstate\u001B[0m\u001B[0;34m(\u001B[0m\u001B[0minvalid\u001B[0m\u001B[0;34m=\u001B[0m\u001B[0;34m'ignore'\u001B[0m\u001B[0;34m)\u001B[0m\u001B[0;34m:\u001B[0m\u001B[0;34m\u001B[0m\u001B[0;34m\u001B[0m\u001B[0m\n\u001B[0;32m-> 2276\u001B[0;31m             \u001B[0;32mreturn\u001B[0m \u001B[0mless_equal\u001B[0m\u001B[0;34m(\u001B[0m\u001B[0mabs\u001B[0m\u001B[0;34m(\u001B[0m\u001B[0mx\u001B[0m\u001B[0;34m-\u001B[0m\u001B[0my\u001B[0m\u001B[0;34m)\u001B[0m\u001B[0;34m,\u001B[0m \u001B[0matol\u001B[0m \u001B[0;34m+\u001B[0m \u001B[0mrtol\u001B[0m \u001B[0;34m*\u001B[0m \u001B[0mabs\u001B[0m\u001B[0;34m(\u001B[0m\u001B[0my\u001B[0m\u001B[0;34m)\u001B[0m\u001B[0;34m)\u001B[0m\u001B[0;34m\u001B[0m\u001B[0;34m\u001B[0m\u001B[0m\n\u001B[0m\u001B[1;32m   2277\u001B[0m \u001B[0;34m\u001B[0m\u001B[0m\n\u001B[1;32m   2278\u001B[0m     \u001B[0mx\u001B[0m \u001B[0;34m=\u001B[0m \u001B[0masanyarray\u001B[0m\u001B[0;34m(\u001B[0m\u001B[0ma\u001B[0m\u001B[0;34m)\u001B[0m\u001B[0;34m\u001B[0m\u001B[0;34m\u001B[0m\u001B[0m\n",
      "\u001B[0;31mValueError\u001B[0m: operands could not be broadcast together with shapes (0,) (2,) "
     ]
    }
   ],
   "source": [
    "def me_grad(X, v):\n",
    "    N = X.shape[0]\n",
    "    temp = X - v\n",
    "    for i in range(N):\n",
    "        temp[i] = (-1/N)*temp[i]/LA.norm(temp[i], ord=2)\n",
    "    grad = np.sum(temp, axis=0)\n",
    "    return grad\n",
    "\n",
    "def mse_grad(X, v):\n",
    "    return 0\n",
    "\n",
    "def max_grad(X, v):\n",
    "    return 0\n",
    "\n",
    "checker.check_1_3(me_grad, mse_grad, max_grad, train_sets)"
   ],
   "metadata": {
    "collapsed": false
   }
  },
  {
   "cell_type": "code",
   "execution_count": null,
   "outputs": [],
   "source": [],
   "metadata": {
    "collapsed": false
   }
  }
 ],
 "metadata": {
  "kernelspec": {
   "display_name": "Python 3",
   "language": "python",
   "name": "python3"
  },
  "language_info": {
   "codemirror_mode": {
    "name": "ipython",
    "version": 2
   },
   "file_extension": ".py",
   "mimetype": "text/x-python",
   "name": "python",
   "nbconvert_exporter": "python",
   "pygments_lexer": "ipython2",
   "version": "2.7.6"
  }
 },
 "nbformat": 4,
 "nbformat_minor": 0
}
