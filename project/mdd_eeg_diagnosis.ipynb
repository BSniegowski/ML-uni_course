{
  "nbformat": 4,
  "nbformat_minor": 0,
  "metadata": {
    "colab": {
      "provenance": [],
      "authorship_tag": "ABX9TyMV7QOifwUoLAW1wyi9SGrA",
      "include_colab_link": true
    },
    "kernelspec": {
      "name": "python3",
      "display_name": "Python 3"
    },
    "language_info": {
      "name": "python"
    }
  },
  "cells": [
    {
      "cell_type": "markdown",
      "metadata": {
        "id": "view-in-github",
        "colab_type": "text"
      },
      "source": [
        "<a href=\"https://colab.research.google.com/github/BSniegowski/ML-uni_course/blob/main/project/mdd_eeg_diagnosis.ipynb\" target=\"_parent\"><img src=\"https://colab.research.google.com/assets/colab-badge.svg\" alt=\"Open In Colab\"/></a>"
      ]
    },
    {
      "cell_type": "code",
      "execution_count": 8,
      "metadata": {
        "colab": {
          "base_uri": "https://localhost:8080/"
        },
        "id": "qEKHKQzxdcph",
        "outputId": "c57b98db-16f0-4608-d816-9630ab525dbb"
      },
      "outputs": [
        {
          "output_type": "stream",
          "name": "stdout",
          "text": [
            "--2023-01-11 20:17:05--  https://figshare.com/ndownloader/articles/4244171/versions/2\n",
            "Resolving figshare.com (figshare.com)... 54.229.244.39, 52.30.99.27, 2a05:d018:1f4:d003:1350:74d8:3c49:3fbd, ...\n",
            "Connecting to figshare.com (figshare.com)|54.229.244.39|:443... connected.\n",
            "HTTP request sent, awaiting response... 200 OK\n",
            "Length: 851639264 (812M) [application/zip]\n",
            "Saving to: ‘2’\n",
            "\n",
            "2                   100%[===================>] 812.19M  23.1MB/s    in 40s     \n",
            "\n",
            "2023-01-11 20:17:45 (20.4 MB/s) - ‘2’ saved [851639264/851639264]\n",
            "\n"
          ]
        }
      ],
      "source": [
        "!wget https://figshare.com/ndownloader/articles/4244171/versions/2"
      ]
    },
    {
      "cell_type": "code",
      "source": [
        "!unzip 2"
      ],
      "metadata": {
        "id": "wPQjR7y2eGss"
      },
      "execution_count": null,
      "outputs": []
    },
    {
      "cell_type": "code",
      "source": [
        "!pip install mne"
      ],
      "metadata": {
        "id": "xsoNtO-CgHSx"
      },
      "execution_count": null,
      "outputs": []
    },
    {
      "cell_type": "code",
      "source": [
        "import os\n",
        "import mne\n",
        "\n",
        "mne.set_log_level('ERROR')\n",
        "\n",
        "\n",
        "raws = []\n",
        "for file in os.scandir('.'):\n",
        "  _, ext = os.path.splitext(file.path)\n",
        "  if ext == \".edf\":\n",
        "    raws.append(mne.io.read_raw_edf(file.path))"
      ],
      "metadata": {
        "id": "5mpDrHr8flQM"
      },
      "execution_count": 79,
      "outputs": []
    },
    {
      "cell_type": "code",
      "source": [
        "import torch\n",
        "from torch.utils.data import Dataset\n",
        "\n",
        "# at first let's ignore timestamps, that is treat the measurements as sequences\n",
        "# instead of functions of time\n",
        "class CustomDataset(Dataset):\n",
        "  def __init__(self, raws, labels, transform=None):\n",
        "    assert len(raws) == len(labels)\n",
        "    self.data = [raw.load_data()[:,:][0] for raw in raws]\n",
        "    self.labels = labels\n",
        "    self.transform = transform\n",
        "\n",
        "  def __len__(self):\n",
        "    return len(self.labels)\n",
        "\n",
        "  def __getitem__(self,idx):\n",
        "    X, y = self.data[idx], self.labels[idx]\n",
        "    if self.transform is not None:\n",
        "      X = self.transform(X)\n",
        "    X = torch.as_tensor(X[None, ...])\n",
        "    return X, y\n",
        "\n",
        "# def scale(X):\n",
        "#   \"\"\"Standard scaling of data along the last dimention.\n",
        "    \n",
        "#   Parameters\n",
        "#   ----------\n",
        "#   X : array, shape (n_channels, n_times)\n",
        "#       The input signals.\n",
        "        \n",
        "#   Returns\n",
        "#   -------\n",
        "#   X_t : array, shape (n_channels, n_times)\n",
        "#       The scaled signals.\n",
        "#   \"\"\"\n",
        "#   X -= torch.mean(X, axis=1, keepdims=True)\n",
        "#   return X / torch.std(X, axis=1, keepdims=True)"
      ],
      "metadata": {
        "id": "XuQsaV59gX7o"
      },
      "execution_count": 116,
      "outputs": []
    },
    {
      "cell_type": "code",
      "source": [
        "labels = [1 if \"MDD\" in raw.filenames[0] else 0 for raw in raws]"
      ],
      "metadata": {
        "id": "EHoz7h39jwT0"
      },
      "execution_count": 112,
      "outputs": []
    },
    {
      "cell_type": "code",
      "source": [
        "dataset = CustomDataset(raws, labels)"
      ],
      "metadata": {
        "id": "OvWP1_fDkskC"
      },
      "execution_count": 117,
      "outputs": []
    },
    {
      "cell_type": "code",
      "source": [
        "from torch.utils.data import random_split\n",
        "train_dataset, test_dataset = random_split(dataset, [0.8, 0.2])"
      ],
      "metadata": {
        "id": "DEvdYyaQ3DMc"
      },
      "execution_count": 118,
      "outputs": []
    },
    {
      "cell_type": "code",
      "source": [],
      "metadata": {
        "id": "ikL-Tq0sIjKm"
      },
      "execution_count": null,
      "outputs": []
    }
  ]
}